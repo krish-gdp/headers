{
  "nbformat": 4,
  "nbformat_minor": 0,
  "metadata": {
    "colab": {
      "name": "mushroom classification using different models.ipynb",
      "provenance": [],
      "authorship_tag": "ABX9TyPcBQzmmRSvTbHC4iLHo5k5",
      "include_colab_link": true
    },
    "kernelspec": {
      "name": "python3",
      "display_name": "Python 3"
    },
    "language_info": {
      "name": "python"
    }
  },
  "cells": [
    {
      "cell_type": "markdown",
      "metadata": {
        "id": "view-in-github",
        "colab_type": "text"
      },
      "source": [
        "<a href=\"https://colab.research.google.com/github/krish-gdp/headers/blob/main/mushroom_classification_using_different_models.ipynb\" target=\"_parent\"><img src=\"https://colab.research.google.com/assets/colab-badge.svg\" alt=\"Open In Colab\"/></a>"
      ]
    },
    {
      "cell_type": "code",
      "metadata": {
        "id": "sQRs3zpuTlrT"
      },
      "source": [
        "import numpy as np\n",
        "import pandas as pd\n",
        "import matplotlib.pyplot as plt\n",
        "import seaborn as sns"
      ],
      "execution_count": 2,
      "outputs": []
    },
    {
      "cell_type": "code",
      "metadata": {
        "id": "94fvrRLWT1Vc"
      },
      "source": [
        "from google.colab import drive"
      ],
      "execution_count": 3,
      "outputs": []
    },
    {
      "cell_type": "code",
      "metadata": {
        "colab": {
          "base_uri": "https://localhost:8080/"
        },
        "id": "a-0VJ6WsUJl1",
        "outputId": "4291b36f-8ba3-41be-9454-81263cc60d1c"
      },
      "source": [
        "drive.mount('/content/drive')"
      ],
      "execution_count": 4,
      "outputs": [
        {
          "output_type": "stream",
          "name": "stdout",
          "text": [
            "Mounted at /content/drive\n"
          ]
        }
      ]
    },
    {
      "cell_type": "code",
      "metadata": {
        "id": "Q38-z4SyUSCL"
      },
      "source": [
        "df = pd.read_csv('/content/drive/MyDrive/data/mushrooms.csv')"
      ],
      "execution_count": 5,
      "outputs": []
    },
    {
      "cell_type": "code",
      "metadata": {
        "colab": {
          "base_uri": "https://localhost:8080/",
          "height": 275
        },
        "id": "Wmv5Bgu2Uorc",
        "outputId": "75fdd60e-fc99-43eb-e085-e75d844b9fae"
      },
      "source": [
        "df.head()"
      ],
      "execution_count": 6,
      "outputs": [
        {
          "output_type": "execute_result",
          "data": {
            "text/html": [
              "<div>\n",
              "<style scoped>\n",
              "    .dataframe tbody tr th:only-of-type {\n",
              "        vertical-align: middle;\n",
              "    }\n",
              "\n",
              "    .dataframe tbody tr th {\n",
              "        vertical-align: top;\n",
              "    }\n",
              "\n",
              "    .dataframe thead th {\n",
              "        text-align: right;\n",
              "    }\n",
              "</style>\n",
              "<table border=\"1\" class=\"dataframe\">\n",
              "  <thead>\n",
              "    <tr style=\"text-align: right;\">\n",
              "      <th></th>\n",
              "      <th>class</th>\n",
              "      <th>cap-shape</th>\n",
              "      <th>cap-surface</th>\n",
              "      <th>cap-color</th>\n",
              "      <th>bruises</th>\n",
              "      <th>odor</th>\n",
              "      <th>gill-attachment</th>\n",
              "      <th>gill-spacing</th>\n",
              "      <th>gill-size</th>\n",
              "      <th>gill-color</th>\n",
              "      <th>stalk-shape</th>\n",
              "      <th>stalk-root</th>\n",
              "      <th>stalk-surface-above-ring</th>\n",
              "      <th>stalk-surface-below-ring</th>\n",
              "      <th>stalk-color-above-ring</th>\n",
              "      <th>stalk-color-below-ring</th>\n",
              "      <th>veil-type</th>\n",
              "      <th>veil-color</th>\n",
              "      <th>ring-number</th>\n",
              "      <th>ring-type</th>\n",
              "      <th>spore-print-color</th>\n",
              "      <th>population</th>\n",
              "      <th>habitat</th>\n",
              "    </tr>\n",
              "  </thead>\n",
              "  <tbody>\n",
              "    <tr>\n",
              "      <th>0</th>\n",
              "      <td>p</td>\n",
              "      <td>x</td>\n",
              "      <td>s</td>\n",
              "      <td>n</td>\n",
              "      <td>t</td>\n",
              "      <td>p</td>\n",
              "      <td>f</td>\n",
              "      <td>c</td>\n",
              "      <td>n</td>\n",
              "      <td>k</td>\n",
              "      <td>e</td>\n",
              "      <td>e</td>\n",
              "      <td>s</td>\n",
              "      <td>s</td>\n",
              "      <td>w</td>\n",
              "      <td>w</td>\n",
              "      <td>p</td>\n",
              "      <td>w</td>\n",
              "      <td>o</td>\n",
              "      <td>p</td>\n",
              "      <td>k</td>\n",
              "      <td>s</td>\n",
              "      <td>u</td>\n",
              "    </tr>\n",
              "    <tr>\n",
              "      <th>1</th>\n",
              "      <td>e</td>\n",
              "      <td>x</td>\n",
              "      <td>s</td>\n",
              "      <td>y</td>\n",
              "      <td>t</td>\n",
              "      <td>a</td>\n",
              "      <td>f</td>\n",
              "      <td>c</td>\n",
              "      <td>b</td>\n",
              "      <td>k</td>\n",
              "      <td>e</td>\n",
              "      <td>c</td>\n",
              "      <td>s</td>\n",
              "      <td>s</td>\n",
              "      <td>w</td>\n",
              "      <td>w</td>\n",
              "      <td>p</td>\n",
              "      <td>w</td>\n",
              "      <td>o</td>\n",
              "      <td>p</td>\n",
              "      <td>n</td>\n",
              "      <td>n</td>\n",
              "      <td>g</td>\n",
              "    </tr>\n",
              "    <tr>\n",
              "      <th>2</th>\n",
              "      <td>e</td>\n",
              "      <td>b</td>\n",
              "      <td>s</td>\n",
              "      <td>w</td>\n",
              "      <td>t</td>\n",
              "      <td>l</td>\n",
              "      <td>f</td>\n",
              "      <td>c</td>\n",
              "      <td>b</td>\n",
              "      <td>n</td>\n",
              "      <td>e</td>\n",
              "      <td>c</td>\n",
              "      <td>s</td>\n",
              "      <td>s</td>\n",
              "      <td>w</td>\n",
              "      <td>w</td>\n",
              "      <td>p</td>\n",
              "      <td>w</td>\n",
              "      <td>o</td>\n",
              "      <td>p</td>\n",
              "      <td>n</td>\n",
              "      <td>n</td>\n",
              "      <td>m</td>\n",
              "    </tr>\n",
              "    <tr>\n",
              "      <th>3</th>\n",
              "      <td>p</td>\n",
              "      <td>x</td>\n",
              "      <td>y</td>\n",
              "      <td>w</td>\n",
              "      <td>t</td>\n",
              "      <td>p</td>\n",
              "      <td>f</td>\n",
              "      <td>c</td>\n",
              "      <td>n</td>\n",
              "      <td>n</td>\n",
              "      <td>e</td>\n",
              "      <td>e</td>\n",
              "      <td>s</td>\n",
              "      <td>s</td>\n",
              "      <td>w</td>\n",
              "      <td>w</td>\n",
              "      <td>p</td>\n",
              "      <td>w</td>\n",
              "      <td>o</td>\n",
              "      <td>p</td>\n",
              "      <td>k</td>\n",
              "      <td>s</td>\n",
              "      <td>u</td>\n",
              "    </tr>\n",
              "    <tr>\n",
              "      <th>4</th>\n",
              "      <td>e</td>\n",
              "      <td>x</td>\n",
              "      <td>s</td>\n",
              "      <td>g</td>\n",
              "      <td>f</td>\n",
              "      <td>n</td>\n",
              "      <td>f</td>\n",
              "      <td>w</td>\n",
              "      <td>b</td>\n",
              "      <td>k</td>\n",
              "      <td>t</td>\n",
              "      <td>e</td>\n",
              "      <td>s</td>\n",
              "      <td>s</td>\n",
              "      <td>w</td>\n",
              "      <td>w</td>\n",
              "      <td>p</td>\n",
              "      <td>w</td>\n",
              "      <td>o</td>\n",
              "      <td>e</td>\n",
              "      <td>n</td>\n",
              "      <td>a</td>\n",
              "      <td>g</td>\n",
              "    </tr>\n",
              "  </tbody>\n",
              "</table>\n",
              "</div>"
            ],
            "text/plain": [
              "  class cap-shape cap-surface  ... spore-print-color population habitat\n",
              "0     p         x           s  ...                 k          s       u\n",
              "1     e         x           s  ...                 n          n       g\n",
              "2     e         b           s  ...                 n          n       m\n",
              "3     p         x           y  ...                 k          s       u\n",
              "4     e         x           s  ...                 n          a       g\n",
              "\n",
              "[5 rows x 23 columns]"
            ]
          },
          "metadata": {},
          "execution_count": 6
        }
      ]
    },
    {
      "cell_type": "code",
      "metadata": {
        "id": "KmkpJgosUqqX"
      },
      "source": [
        "# lets perform some explorative data analysis"
      ],
      "execution_count": 10,
      "outputs": []
    },
    {
      "cell_type": "code",
      "metadata": {
        "colab": {
          "base_uri": "https://localhost:8080/",
          "height": 297
        },
        "id": "i3VDDGG_VsJZ",
        "outputId": "41313e9b-3627-4fa8-dddc-50289658d44a"
      },
      "source": [
        "sns.countplot(data = df, x = 'class')"
      ],
      "execution_count": 12,
      "outputs": [
        {
          "output_type": "execute_result",
          "data": {
            "text/plain": [
              "<matplotlib.axes._subplots.AxesSubplot at 0x7fba19222510>"
            ]
          },
          "metadata": {},
          "execution_count": 12
        },
        {
          "output_type": "display_data",
          "data": {
            "image/png": "[encoded data removed]",
            "text/plain": [
              "<Figure size 432x288 with 1 Axes>"
            ]
          },
          "metadata": {
            "needs_background": "light"
          }
        }
      ]
    },
    {
      "cell_type": "code",
      "metadata": {
        "id": "IePckcqZV1Lt"
      },
      "source": [
        "# so the data is nearly balanced.\n",
        "#lets check if there is any dat amissing in the given data set."
      ],
      "execution_count": 13,
      "outputs": []
    },
    {
      "cell_type": "code",
      "metadata": {
        "colab": {
          "base_uri": "https://localhost:8080/"
        },
        "id": "E9PwniIVWJFs",
        "outputId": "22790e45-c1f1-48cb-f7ad-1582c2444f24"
      },
      "source": [
        "df.isna().sum()"
      ],
      "execution_count": 24,
      "outputs": [
        {
          "output_type": "execute_result",
          "data": {
            "text/plain": [
              "class                       0\n",
              "cap-shape                   0\n",
              "cap-surface                 0\n",
              "cap-color                   0\n",
              "bruises                     0\n",
              "odor                        0\n",
              "gill-attachment             0\n",
              "gill-spacing                0\n",
              "gill-size                   0\n",
              "gill-color                  0\n",
              "stalk-shape                 0\n",
              "stalk-root                  0\n",
              "stalk-surface-above-ring    0\n",
              "stalk-surface-below-ring    0\n",
              "stalk-color-above-ring      0\n",
              "stalk-color-below-ring      0\n",
              "veil-type                   0\n",
              "veil-color                  0\n",
              "ring-number                 0\n",
              "ring-type                   0\n",
              "spore-print-color           0\n",
              "population                  0\n",
              "habitat                     0\n",
              "dtype: int64"
            ]
          },
          "metadata": {},
          "execution_count": 24
        }
      ]
    },
    {
      "cell_type": "code",
      "metadata": {
        "id": "3Bnc5NP_WL1v"
      },
      "source": [
        "#therefore none of the data is missing."
      ],
      "execution_count": 25,
      "outputs": []
    },
    {
      "cell_type": "code",
      "metadata": {
        "colab": {
          "base_uri": "https://localhost:8080/",
          "height": 244
        },
        "id": "YP8bZe5vXB3U",
        "outputId": "378ee806-f44c-4eaa-bb65-f23d618ae1af"
      },
      "source": [
        "df.describe()"
      ],
      "execution_count": 26,
      "outputs": [
        {
          "output_type": "execute_result",
          "data": {
            "text/html": [
              "<div>\n",
              "<style scoped>\n",
              "    .dataframe tbody tr th:only-of-type {\n",
              "        vertical-align: middle;\n",
              "    }\n",
              "\n",
              "    .dataframe tbody tr th {\n",
              "        vertical-align: top;\n",
              "    }\n",
              "\n",
              "    .dataframe thead th {\n",
              "        text-align: right;\n",
              "    }\n",
              "</style>\n",
              "<table border=\"1\" class=\"dataframe\">\n",
              "  <thead>\n",
              "    <tr style=\"text-align: right;\">\n",
              "      <th></th>\n",
              "      <th>class</th>\n",
              "      <th>cap-shape</th>\n",
              "      <th>cap-surface</th>\n",
              "      <th>cap-color</th>\n",
              "      <th>bruises</th>\n",
              "      <th>odor</th>\n",
              "      <th>gill-attachment</th>\n",
              "      <th>gill-spacing</th>\n",
              "      <th>gill-size</th>\n",
              "      <th>gill-color</th>\n",
              "      <th>stalk-shape</th>\n",
              "      <th>stalk-root</th>\n",
              "      <th>stalk-surface-above-ring</th>\n",
              "      <th>stalk-surface-below-ring</th>\n",
              "      <th>stalk-color-above-ring</th>\n",
              "      <th>stalk-color-below-ring</th>\n",
              "      <th>veil-type</th>\n",
              "      <th>veil-color</th>\n",
              "      <th>ring-number</th>\n",
              "      <th>ring-type</th>\n",
              "      <th>spore-print-color</th>\n",
              "      <th>population</th>\n",
              "      <th>habitat</th>\n",
              "    </tr>\n",
              "  </thead>\n",
              "  <tbody>\n",
              "    <tr>\n",
              "      <th>count</th>\n",
              "      <td>8124</td>\n",
              "      <td>8124</td>\n",
              "      <td>8124</td>\n",
              "      <td>8124</td>\n",
              "      <td>8124</td>\n",
              "      <td>8124</td>\n",
              "      <td>8124</td>\n",
              "      <td>8124</td>\n",
              "      <td>8124</td>\n",
              "      <td>8124</td>\n",
              "      <td>8124</td>\n",
              "      <td>8124</td>\n",
              "      <td>8124</td>\n",
              "      <td>8124</td>\n",
              "      <td>8124</td>\n",
              "      <td>8124</td>\n",
              "      <td>8124</td>\n",
              "      <td>8124</td>\n",
              "      <td>8124</td>\n",
              "      <td>8124</td>\n",
              "      <td>8124</td>\n",
              "      <td>8124</td>\n",
              "      <td>8124</td>\n",
              "    </tr>\n",
              "    <tr>\n",
              "      <th>unique</th>\n",
              "      <td>2</td>\n",
              "      <td>6</td>\n",
              "      <td>4</td>\n",
              "      <td>10</td>\n",
              "      <td>2</td>\n",
              "      <td>9</td>\n",
              "      <td>2</td>\n",
              "      <td>2</td>\n",
              "      <td>2</td>\n",
              "      <td>12</td>\n",
              "      <td>2</td>\n",
              "      <td>5</td>\n",
              "      <td>4</td>\n",
              "      <td>4</td>\n",
              "      <td>9</td>\n",
              "      <td>9</td>\n",
              "      <td>1</td>\n",
              "      <td>4</td>\n",
              "      <td>3</td>\n",
              "      <td>5</td>\n",
              "      <td>9</td>\n",
              "      <td>6</td>\n",
              "      <td>7</td>\n",
              "    </tr>\n",
              "    <tr>\n",
              "      <th>top</th>\n",
              "      <td>e</td>\n",
              "      <td>x</td>\n",
              "      <td>y</td>\n",
              "      <td>n</td>\n",
              "      <td>f</td>\n",
              "      <td>n</td>\n",
              "      <td>f</td>\n",
              "      <td>c</td>\n",
              "      <td>b</td>\n",
              "      <td>b</td>\n",
              "      <td>t</td>\n",
              "      <td>b</td>\n",
              "      <td>s</td>\n",
              "      <td>s</td>\n",
              "      <td>w</td>\n",
              "      <td>w</td>\n",
              "      <td>p</td>\n",
              "      <td>w</td>\n",
              "      <td>o</td>\n",
              "      <td>p</td>\n",
              "      <td>w</td>\n",
              "      <td>v</td>\n",
              "      <td>d</td>\n",
              "    </tr>\n",
              "    <tr>\n",
              "      <th>freq</th>\n",
              "      <td>4208</td>\n",
              "      <td>3656</td>\n",
              "      <td>3244</td>\n",
              "      <td>2284</td>\n",
              "      <td>4748</td>\n",
              "      <td>3528</td>\n",
              "      <td>7914</td>\n",
              "      <td>6812</td>\n",
              "      <td>5612</td>\n",
              "      <td>1728</td>\n",
              "      <td>4608</td>\n",
              "      <td>3776</td>\n",
              "      <td>5176</td>\n",
              "      <td>4936</td>\n",
              "      <td>4464</td>\n",
              "      <td>4384</td>\n",
              "      <td>8124</td>\n",
              "      <td>7924</td>\n",
              "      <td>7488</td>\n",
              "      <td>3968</td>\n",
              "      <td>2388</td>\n",
              "      <td>4040</td>\n",
              "      <td>3148</td>\n",
              "    </tr>\n",
              "  </tbody>\n",
              "</table>\n",
              "</div>"
            ],
            "text/plain": [
              "       class cap-shape cap-surface  ... spore-print-color population habitat\n",
              "count   8124      8124        8124  ...              8124       8124    8124\n",
              "unique     2         6           4  ...                 9          6       7\n",
              "top        e         x           y  ...                 w          v       d\n",
              "freq    4208      3656        3244  ...              2388       4040    3148\n",
              "\n",
              "[4 rows x 23 columns]"
            ]
          },
          "metadata": {},
          "execution_count": 26
        }
      ]
    },
    {
      "cell_type": "code",
      "metadata": {
        "colab": {
          "base_uri": "https://localhost:8080/",
          "height": 762
        },
        "id": "DTNy7BcLXFNF",
        "outputId": "37caf07b-3323-4d76-b953-4415aeda192a"
      },
      "source": [
        "df.describe().transpose()"
      ],
      "execution_count": 27,
      "outputs": [
        {
          "output_type": "execute_result",
          "data": {
            "text/html": [
              "<div>\n",
              "<style scoped>\n",
              "    .dataframe tbody tr th:only-of-type {\n",
              "        vertical-align: middle;\n",
              "    }\n",
              "\n",
              "    .dataframe tbody tr th {\n",
              "        vertical-align: top;\n",
              "    }\n",
              "\n",
              "    .dataframe thead th {\n",
              "        text-align: right;\n",
              "    }\n",
              "</style>\n",
              "<table border=\"1\" class=\"dataframe\">\n",
              "  <thead>\n",
              "    <tr style=\"text-align: right;\">\n",
              "      <th></th>\n",
              "      <th>count</th>\n",
              "      <th>unique</th>\n",
              "      <th>top</th>\n",
              "      <th>freq</th>\n",
              "    </tr>\n",
              "  </thead>\n",
              "  <tbody>\n",
              "    <tr>\n",
              "      <th>class</th>\n",
              "      <td>8124</td>\n",
              "      <td>2</td>\n",
              "      <td>e</td>\n",
              "      <td>4208</td>\n",
              "    </tr>\n",
              "    <tr>\n",
              "      <th>cap-shape</th>\n",
              "      <td>8124</td>\n",
              "      <td>6</td>\n",
              "      <td>x</td>\n",
              "      <td>3656</td>\n",
              "    </tr>\n",
              "    <tr>\n",
              "      <th>cap-surface</th>\n",
              "      <td>8124</td>\n",
              "      <td>4</td>\n",
              "      <td>y</td>\n",
              "      <td>3244</td>\n",
              "    </tr>\n",
              "    <tr>\n",
              "      <th>cap-color</th>\n",
              "      <td>8124</td>\n",
              "      <td>10</td>\n",
              "      <td>n</td>\n",
              "      <td>2284</td>\n",
              "    </tr>\n",
              "    <tr>\n",
              "      <th>bruises</th>\n",
              "      <td>8124</td>\n",
              "      <td>2</td>\n",
              "      <td>f</td>\n",
              "      <td>4748</td>\n",
              "    </tr>\n",
              "    <tr>\n",
              "      <th>odor</th>\n",
              "      <td>8124</td>\n",
              "      <td>9</td>\n",
              "      <td>n</td>\n",
              "      <td>3528</td>\n",
              "    </tr>\n",
              "    <tr>\n",
              "      <th>gill-attachment</th>\n",
              "      <td>8124</td>\n",
              "      <td>2</td>\n",
              "      <td>f</td>\n",
              "      <td>7914</td>\n",
              "    </tr>\n",
              "    <tr>\n",
              "      <th>gill-spacing</th>\n",
              "      <td>8124</td>\n",
              "      <td>2</td>\n",
              "      <td>c</td>\n",
              "      <td>6812</td>\n",
              "    </tr>\n",
              "    <tr>\n",
              "      <th>gill-size</th>\n",
              "      <td>8124</td>\n",
              "      <td>2</td>\n",
              "      <td>b</td>\n",
              "      <td>5612</td>\n",
              "    </tr>\n",
              "    <tr>\n",
              "      <th>gill-color</th>\n",
              "      <td>8124</td>\n",
              "      <td>12</td>\n",
              "      <td>b</td>\n",
              "      <td>1728</td>\n",
              "    </tr>\n",
              "    <tr>\n",
              "      <th>stalk-shape</th>\n",
              "      <td>8124</td>\n",
              "      <td>2</td>\n",
              "      <td>t</td>\n",
              "      <td>4608</td>\n",
              "    </tr>\n",
              "    <tr>\n",
              "      <th>stalk-root</th>\n",
              "      <td>8124</td>\n",
              "      <td>5</td>\n",
              "      <td>b</td>\n",
              "      <td>3776</td>\n",
              "    </tr>\n",
              "    <tr>\n",
              "      <th>stalk-surface-above-ring</th>\n",
              "      <td>8124</td>\n",
              "      <td>4</td>\n",
              "      <td>s</td>\n",
              "      <td>5176</td>\n",
              "    </tr>\n",
              "    <tr>\n",
              "      <th>stalk-surface-below-ring</th>\n",
              "      <td>8124</td>\n",
              "      <td>4</td>\n",
              "      <td>s</td>\n",
              "      <td>4936</td>\n",
              "    </tr>\n",
              "    <tr>\n",
              "      <th>stalk-color-above-ring</th>\n",
              "      <td>8124</td>\n",
              "      <td>9</td>\n",
              "      <td>w</td>\n",
              "      <td>4464</td>\n",
              "    </tr>\n",
              "    <tr>\n",
              "      <th>stalk-color-below-ring</th>\n",
              "      <td>8124</td>\n",
              "      <td>9</td>\n",
              "      <td>w</td>\n",
              "      <td>4384</td>\n",
              "    </tr>\n",
              "    <tr>\n",
              "      <th>veil-type</th>\n",
              "      <td>8124</td>\n",
              "      <td>1</td>\n",
              "      <td>p</td>\n",
              "      <td>8124</td>\n",
              "    </tr>\n",
              "    <tr>\n",
              "      <th>veil-color</th>\n",
              "      <td>8124</td>\n",
              "      <td>4</td>\n",
              "      <td>w</td>\n",
              "      <td>7924</td>\n",
              "    </tr>\n",
              "    <tr>\n",
              "      <th>ring-number</th>\n",
              "      <td>8124</td>\n",
              "      <td>3</td>\n",
              "      <td>o</td>\n",
              "      <td>7488</td>\n",
              "    </tr>\n",
              "    <tr>\n",
              "      <th>ring-type</th>\n",
              "      <td>8124</td>\n",
              "      <td>5</td>\n",
              "      <td>p</td>\n",
              "      <td>3968</td>\n",
              "    </tr>\n",
              "    <tr>\n",
              "      <th>spore-print-color</th>\n",
              "      <td>8124</td>\n",
              "      <td>9</td>\n",
              "      <td>w</td>\n",
              "      <td>2388</td>\n",
              "    </tr>\n",
              "    <tr>\n",
              "      <th>population</th>\n",
              "      <td>8124</td>\n",
              "      <td>6</td>\n",
              "      <td>v</td>\n",
              "      <td>4040</td>\n",
              "    </tr>\n",
              "    <tr>\n",
              "      <th>habitat</th>\n",
              "      <td>8124</td>\n",
              "      <td>7</td>\n",
              "      <td>d</td>\n",
              "      <td>3148</td>\n",
              "    </tr>\n",
              "  </tbody>\n",
              "</table>\n",
              "</div>"
            ],
            "text/plain": [
              "                         count unique top  freq\n",
              "class                     8124      2   e  4208\n",
              "cap-shape                 8124      6   x  3656\n",
              "cap-surface               8124      4   y  3244\n",
              "cap-color                 8124     10   n  2284\n",
              "bruises                   8124      2   f  4748\n",
              "odor                      8124      9   n  3528\n",
              "gill-attachment           8124      2   f  7914\n",
              "gill-spacing              8124      2   c  6812\n",
              "gill-size                 8124      2   b  5612\n",
              "gill-color                8124     12   b  1728\n",
              "stalk-shape               8124      2   t  4608\n",
              "stalk-root                8124      5   b  3776\n",
              "stalk-surface-above-ring  8124      4   s  5176\n",
              "stalk-surface-below-ring  8124      4   s  4936\n",
              "stalk-color-above-ring    8124      9   w  4464\n",
              "stalk-color-below-ring    8124      9   w  4384\n",
              "veil-type                 8124      1   p  8124\n",
              "veil-color                8124      4   w  7924\n",
              "ring-number               8124      3   o  7488\n",
              "ring-type                 8124      5   p  3968\n",
              "spore-print-color         8124      9   w  2388\n",
              "population                8124      6   v  4040\n",
              "habitat                   8124      7   d  3148"
            ]
          },
          "metadata": {},
          "execution_count": 27
        }
      ]
    },
    {
      "cell_type": "code",
      "metadata": {
        "colab": {
          "base_uri": "https://localhost:8080/",
          "height": 762
        },
        "id": "aj1Ror6GYoUa",
        "outputId": "fb6ce2ca-c1fb-44d4-fe5c-fb23fb3fb4d0"
      },
      "source": [
        "df.describe().transpose().reset_index().sort_values('unique')"
      ],
      "execution_count": 30,
      "outputs": [
        {
          "output_type": "execute_result",
          "data": {
            "text/html": [
              "<div>\n",
              "<style scoped>\n",
              "    .dataframe tbody tr th:only-of-type {\n",
              "        vertical-align: middle;\n",
              "    }\n",
              "\n",
              "    .dataframe tbody tr th {\n",
              "        vertical-align: top;\n",
              "    }\n",
              "\n",
              "    .dataframe thead th {\n",
              "        text-align: right;\n",
              "    }\n",
              "</style>\n",
              "<table border=\"1\" class=\"dataframe\">\n",
              "  <thead>\n",
              "    <tr style=\"text-align: right;\">\n",
              "      <th></th>\n",
              "      <th>index</th>\n",
              "      <th>count</th>\n",
              "      <th>unique</th>\n",
              "      <th>top</th>\n",
              "      <th>freq</th>\n",
              "    </tr>\n",
              "  </thead>\n",
              "  <tbody>\n",
              "    <tr>\n",
              "      <th>16</th>\n",
              "      <td>veil-type</td>\n",
              "      <td>8124</td>\n",
              "      <td>1</td>\n",
              "      <td>p</td>\n",
              "      <td>8124</td>\n",
              "    </tr>\n",
              "    <tr>\n",
              "      <th>0</th>\n",
              "      <td>class</td>\n",
              "      <td>8124</td>\n",
              "      <td>2</td>\n",
              "      <td>e</td>\n",
              "      <td>4208</td>\n",
              "    </tr>\n",
              "    <tr>\n",
              "      <th>4</th>\n",
              "      <td>bruises</td>\n",
              "      <td>8124</td>\n",
              "      <td>2</td>\n",
              "      <td>f</td>\n",
              "      <td>4748</td>\n",
              "    </tr>\n",
              "    <tr>\n",
              "      <th>6</th>\n",
              "      <td>gill-attachment</td>\n",
              "      <td>8124</td>\n",
              "      <td>2</td>\n",
              "      <td>f</td>\n",
              "      <td>7914</td>\n",
              "    </tr>\n",
              "    <tr>\n",
              "      <th>7</th>\n",
              "      <td>gill-spacing</td>\n",
              "      <td>8124</td>\n",
              "      <td>2</td>\n",
              "      <td>c</td>\n",
              "      <td>6812</td>\n",
              "    </tr>\n",
              "    <tr>\n",
              "      <th>8</th>\n",
              "      <td>gill-size</td>\n",
              "      <td>8124</td>\n",
              "      <td>2</td>\n",
              "      <td>b</td>\n",
              "      <td>5612</td>\n",
              "    </tr>\n",
              "    <tr>\n",
              "      <th>10</th>\n",
              "      <td>stalk-shape</td>\n",
              "      <td>8124</td>\n",
              "      <td>2</td>\n",
              "      <td>t</td>\n",
              "      <td>4608</td>\n",
              "    </tr>\n",
              "    <tr>\n",
              "      <th>18</th>\n",
              "      <td>ring-number</td>\n",
              "      <td>8124</td>\n",
              "      <td>3</td>\n",
              "      <td>o</td>\n",
              "      <td>7488</td>\n",
              "    </tr>\n",
              "    <tr>\n",
              "      <th>2</th>\n",
              "      <td>cap-surface</td>\n",
              "      <td>8124</td>\n",
              "      <td>4</td>\n",
              "      <td>y</td>\n",
              "      <td>3244</td>\n",
              "    </tr>\n",
              "    <tr>\n",
              "      <th>17</th>\n",
              "      <td>veil-color</td>\n",
              "      <td>8124</td>\n",
              "      <td>4</td>\n",
              "      <td>w</td>\n",
              "      <td>7924</td>\n",
              "    </tr>\n",
              "    <tr>\n",
              "      <th>13</th>\n",
              "      <td>stalk-surface-below-ring</td>\n",
              "      <td>8124</td>\n",
              "      <td>4</td>\n",
              "      <td>s</td>\n",
              "      <td>4936</td>\n",
              "    </tr>\n",
              "    <tr>\n",
              "      <th>12</th>\n",
              "      <td>stalk-surface-above-ring</td>\n",
              "      <td>8124</td>\n",
              "      <td>4</td>\n",
              "      <td>s</td>\n",
              "      <td>5176</td>\n",
              "    </tr>\n",
              "    <tr>\n",
              "      <th>19</th>\n",
              "      <td>ring-type</td>\n",
              "      <td>8124</td>\n",
              "      <td>5</td>\n",
              "      <td>p</td>\n",
              "      <td>3968</td>\n",
              "    </tr>\n",
              "    <tr>\n",
              "      <th>11</th>\n",
              "      <td>stalk-root</td>\n",
              "      <td>8124</td>\n",
              "      <td>5</td>\n",
              "      <td>b</td>\n",
              "      <td>3776</td>\n",
              "    </tr>\n",
              "    <tr>\n",
              "      <th>1</th>\n",
              "      <td>cap-shape</td>\n",
              "      <td>8124</td>\n",
              "      <td>6</td>\n",
              "      <td>x</td>\n",
              "      <td>3656</td>\n",
              "    </tr>\n",
              "    <tr>\n",
              "      <th>21</th>\n",
              "      <td>population</td>\n",
              "      <td>8124</td>\n",
              "      <td>6</td>\n",
              "      <td>v</td>\n",
              "      <td>4040</td>\n",
              "    </tr>\n",
              "    <tr>\n",
              "      <th>22</th>\n",
              "      <td>habitat</td>\n",
              "      <td>8124</td>\n",
              "      <td>7</td>\n",
              "      <td>d</td>\n",
              "      <td>3148</td>\n",
              "    </tr>\n",
              "    <tr>\n",
              "      <th>14</th>\n",
              "      <td>stalk-color-above-ring</td>\n",
              "      <td>8124</td>\n",
              "      <td>9</td>\n",
              "      <td>w</td>\n",
              "      <td>4464</td>\n",
              "    </tr>\n",
              "    <tr>\n",
              "      <th>15</th>\n",
              "      <td>stalk-color-below-ring</td>\n",
              "      <td>8124</td>\n",
              "      <td>9</td>\n",
              "      <td>w</td>\n",
              "      <td>4384</td>\n",
              "    </tr>\n",
              "    <tr>\n",
              "      <th>5</th>\n",
              "      <td>odor</td>\n",
              "      <td>8124</td>\n",
              "      <td>9</td>\n",
              "      <td>n</td>\n",
              "      <td>3528</td>\n",
              "    </tr>\n",
              "    <tr>\n",
              "      <th>20</th>\n",
              "      <td>spore-print-color</td>\n",
              "      <td>8124</td>\n",
              "      <td>9</td>\n",
              "      <td>w</td>\n",
              "      <td>2388</td>\n",
              "    </tr>\n",
              "    <tr>\n",
              "      <th>3</th>\n",
              "      <td>cap-color</td>\n",
              "      <td>8124</td>\n",
              "      <td>10</td>\n",
              "      <td>n</td>\n",
              "      <td>2284</td>\n",
              "    </tr>\n",
              "    <tr>\n",
              "      <th>9</th>\n",
              "      <td>gill-color</td>\n",
              "      <td>8124</td>\n",
              "      <td>12</td>\n",
              "      <td>b</td>\n",
              "      <td>1728</td>\n",
              "    </tr>\n",
              "  </tbody>\n",
              "</table>\n",
              "</div>"
            ],
            "text/plain": [
              "                       index count unique top  freq\n",
              "16                 veil-type  8124      1   p  8124\n",
              "0                      class  8124      2   e  4208\n",
              "4                    bruises  8124      2   f  4748\n",
              "6            gill-attachment  8124      2   f  7914\n",
              "7               gill-spacing  8124      2   c  6812\n",
              "8                  gill-size  8124      2   b  5612\n",
              "10               stalk-shape  8124      2   t  4608\n",
              "18               ring-number  8124      3   o  7488\n",
              "2                cap-surface  8124      4   y  3244\n",
              "17                veil-color  8124      4   w  7924\n",
              "13  stalk-surface-below-ring  8124      4   s  4936\n",
              "12  stalk-surface-above-ring  8124      4   s  5176\n",
              "19                 ring-type  8124      5   p  3968\n",
              "11                stalk-root  8124      5   b  3776\n",
              "1                  cap-shape  8124      6   x  3656\n",
              "21                population  8124      6   v  4040\n",
              "22                   habitat  8124      7   d  3148\n",
              "14    stalk-color-above-ring  8124      9   w  4464\n",
              "15    stalk-color-below-ring  8124      9   w  4384\n",
              "5                       odor  8124      9   n  3528\n",
              "20         spore-print-color  8124      9   w  2388\n",
              "3                  cap-color  8124     10   n  2284\n",
              "9                 gill-color  8124     12   b  1728"
            ]
          },
          "metadata": {},
          "execution_count": 30
        }
      ]
    },
    {
      "cell_type": "code",
      "metadata": {
        "colab": {
          "base_uri": "https://localhost:8080/",
          "height": 500
        },
        "id": "QhvXV9p5XT5d",
        "outputId": "f181be93-c3f3-4758-cfd0-749f6a04411a"
      },
      "source": [
        "plt.figure(figsize = (20,6))\n",
        "sns.barplot(data = df.describe().transpose().reset_index().sort_values('unique'), x = 'index',y = 'unique')\n",
        "plt.xticks(rotation =90);\n"
      ],
      "execution_count": 37,
      "outputs": [
        {
          "output_type": "display_data",
          "data": {
            "image/png": "[encoded data removed]",
            "text/plain": [
              "<Figure size 1440x432 with 1 Axes>"
            ]
          },
          "metadata": {
            "needs_background": "light"
          }
        }
      ]
    },
    {
      "cell_type": "code",
      "metadata": {
        "id": "08fhmPq9eWA_"
      },
      "source": [
        ""
      ],
      "execution_count": null,
      "outputs": []
    },
    {
      "cell_type": "code",
      "metadata": {
        "id": "Al49m4VCZMZR"
      },
      "source": [
        "X = df.drop('class',axis=1)\n",
        "y = df['class']"
      ],
      "execution_count": 39,
      "outputs": []
    },
    {
      "cell_type": "code",
      "metadata": {
        "id": "kMmk68YacKKP"
      },
      "source": [
        "from sklearn.model_selection import train_test_split\n"
      ],
      "execution_count": 40,
      "outputs": []
    },
    {
      "cell_type": "code",
      "metadata": {
        "id": "UJt9sGWxefA_"
      },
      "source": [
        "X = pd.get_dummies(X, drop_first=True)"
      ],
      "execution_count": 46,
      "outputs": []
    },
    {
      "cell_type": "code",
      "metadata": {
        "id": "VrssyqWsceU7"
      },
      "source": [
        "X_train,X_test, y_train, y_test = train_test_split(X,y, test_size = 0.15 , random_state= 101)"
      ],
      "execution_count": 47,
      "outputs": []
    },
    {
      "cell_type": "code",
      "metadata": {
        "id": "RAmLQnGec1fB"
      },
      "source": [
        "# we perform the data on different classification algorithms to see which give sthe best result.\n"
      ],
      "execution_count": 48,
      "outputs": []
    },
    {
      "cell_type": "code",
      "metadata": {
        "colab": {
          "base_uri": "https://localhost:8080/",
          "height": 304
        },
        "id": "WXaTyNPLhNdL",
        "outputId": "c6a60e9c-758f-455d-dfe8-5c967ea99743"
      },
      "source": [
        "X.head()"
      ],
      "execution_count": 63,
      "outputs": [
        {
          "output_type": "execute_result",
          "data": {
            "text/html": [
              "<div>\n",
              "<style scoped>\n",
              "    .dataframe tbody tr th:only-of-type {\n",
              "        vertical-align: middle;\n",
              "    }\n",
              "\n",
              "    .dataframe tbody tr th {\n",
              "        vertical-align: top;\n",
              "    }\n",
              "\n",
              "    .dataframe thead th {\n",
              "        text-align: right;\n",
              "    }\n",
              "</style>\n",
              "<table border=\"1\" class=\"dataframe\">\n",
              "  <thead>\n",
              "    <tr style=\"text-align: right;\">\n",
              "      <th></th>\n",
              "      <th>cap-shape_c</th>\n",
              "      <th>cap-shape_f</th>\n",
              "      <th>cap-shape_k</th>\n",
              "      <th>cap-shape_s</th>\n",
              "      <th>cap-shape_x</th>\n",
              "      <th>cap-surface_g</th>\n",
              "      <th>cap-surface_s</th>\n",
              "      <th>cap-surface_y</th>\n",
              "      <th>cap-color_c</th>\n",
              "      <th>cap-color_e</th>\n",
              "      <th>cap-color_g</th>\n",
              "      <th>cap-color_n</th>\n",
              "      <th>cap-color_p</th>\n",
              "      <th>cap-color_r</th>\n",
              "      <th>cap-color_u</th>\n",
              "      <th>cap-color_w</th>\n",
              "      <th>cap-color_y</th>\n",
              "      <th>bruises_t</th>\n",
              "      <th>odor_c</th>\n",
              "      <th>odor_f</th>\n",
              "      <th>odor_l</th>\n",
              "      <th>odor_m</th>\n",
              "      <th>odor_n</th>\n",
              "      <th>odor_p</th>\n",
              "      <th>odor_s</th>\n",
              "      <th>odor_y</th>\n",
              "      <th>gill-attachment_f</th>\n",
              "      <th>gill-spacing_w</th>\n",
              "      <th>gill-size_n</th>\n",
              "      <th>gill-color_e</th>\n",
              "      <th>gill-color_g</th>\n",
              "      <th>gill-color_h</th>\n",
              "      <th>gill-color_k</th>\n",
              "      <th>gill-color_n</th>\n",
              "      <th>gill-color_o</th>\n",
              "      <th>gill-color_p</th>\n",
              "      <th>gill-color_r</th>\n",
              "      <th>gill-color_u</th>\n",
              "      <th>gill-color_w</th>\n",
              "      <th>gill-color_y</th>\n",
              "      <th>...</th>\n",
              "      <th>stalk-color-above-ring_o</th>\n",
              "      <th>stalk-color-above-ring_p</th>\n",
              "      <th>stalk-color-above-ring_w</th>\n",
              "      <th>stalk-color-above-ring_y</th>\n",
              "      <th>stalk-color-below-ring_c</th>\n",
              "      <th>stalk-color-below-ring_e</th>\n",
              "      <th>stalk-color-below-ring_g</th>\n",
              "      <th>stalk-color-below-ring_n</th>\n",
              "      <th>stalk-color-below-ring_o</th>\n",
              "      <th>stalk-color-below-ring_p</th>\n",
              "      <th>stalk-color-below-ring_w</th>\n",
              "      <th>stalk-color-below-ring_y</th>\n",
              "      <th>veil-color_o</th>\n",
              "      <th>veil-color_w</th>\n",
              "      <th>veil-color_y</th>\n",
              "      <th>ring-number_o</th>\n",
              "      <th>ring-number_t</th>\n",
              "      <th>ring-type_f</th>\n",
              "      <th>ring-type_l</th>\n",
              "      <th>ring-type_n</th>\n",
              "      <th>ring-type_p</th>\n",
              "      <th>spore-print-color_h</th>\n",
              "      <th>spore-print-color_k</th>\n",
              "      <th>spore-print-color_n</th>\n",
              "      <th>spore-print-color_o</th>\n",
              "      <th>spore-print-color_r</th>\n",
              "      <th>spore-print-color_u</th>\n",
              "      <th>spore-print-color_w</th>\n",
              "      <th>spore-print-color_y</th>\n",
              "      <th>population_c</th>\n",
              "      <th>population_n</th>\n",
              "      <th>population_s</th>\n",
              "      <th>population_v</th>\n",
              "      <th>population_y</th>\n",
              "      <th>habitat_g</th>\n",
              "      <th>habitat_l</th>\n",
              "      <th>habitat_m</th>\n",
              "      <th>habitat_p</th>\n",
              "      <th>habitat_u</th>\n",
              "      <th>habitat_w</th>\n",
              "    </tr>\n",
              "  </thead>\n",
              "  <tbody>\n",
              "    <tr>\n",
              "      <th>0</th>\n",
              "      <td>0</td>\n",
              "      <td>0</td>\n",
              "      <td>0</td>\n",
              "      <td>0</td>\n",
              "      <td>1</td>\n",
              "      <td>0</td>\n",
              "      <td>1</td>\n",
              "      <td>0</td>\n",
              "      <td>0</td>\n",
              "      <td>0</td>\n",
              "      <td>0</td>\n",
              "      <td>1</td>\n",
              "      <td>0</td>\n",
              "      <td>0</td>\n",
              "      <td>0</td>\n",
              "      <td>0</td>\n",
              "      <td>0</td>\n",
              "      <td>1</td>\n",
              "      <td>0</td>\n",
              "      <td>0</td>\n",
              "      <td>0</td>\n",
              "      <td>0</td>\n",
              "      <td>0</td>\n",
              "      <td>1</td>\n",
              "      <td>0</td>\n",
              "      <td>0</td>\n",
              "      <td>1</td>\n",
              "      <td>0</td>\n",
              "      <td>1</td>\n",
              "      <td>0</td>\n",
              "      <td>0</td>\n",
              "      <td>0</td>\n",
              "      <td>1</td>\n",
              "      <td>0</td>\n",
              "      <td>0</td>\n",
              "      <td>0</td>\n",
              "      <td>0</td>\n",
              "      <td>0</td>\n",
              "      <td>0</td>\n",
              "      <td>0</td>\n",
              "      <td>...</td>\n",
              "      <td>0</td>\n",
              "      <td>0</td>\n",
              "      <td>1</td>\n",
              "      <td>0</td>\n",
              "      <td>0</td>\n",
              "      <td>0</td>\n",
              "      <td>0</td>\n",
              "      <td>0</td>\n",
              "      <td>0</td>\n",
              "      <td>0</td>\n",
              "      <td>1</td>\n",
              "      <td>0</td>\n",
              "      <td>0</td>\n",
              "      <td>1</td>\n",
              "      <td>0</td>\n",
              "      <td>1</td>\n",
              "      <td>0</td>\n",
              "      <td>0</td>\n",
              "      <td>0</td>\n",
              "      <td>0</td>\n",
              "      <td>1</td>\n",
              "      <td>0</td>\n",
              "      <td>1</td>\n",
              "      <td>0</td>\n",
              "      <td>0</td>\n",
              "      <td>0</td>\n",
              "      <td>0</td>\n",
              "      <td>0</td>\n",
              "      <td>0</td>\n",
              "      <td>0</td>\n",
              "      <td>0</td>\n",
              "      <td>1</td>\n",
              "      <td>0</td>\n",
              "      <td>0</td>\n",
              "      <td>0</td>\n",
              "      <td>0</td>\n",
              "      <td>0</td>\n",
              "      <td>0</td>\n",
              "      <td>1</td>\n",
              "      <td>0</td>\n",
              "    </tr>\n",
              "    <tr>\n",
              "      <th>1</th>\n",
              "      <td>0</td>\n",
              "      <td>0</td>\n",
              "      <td>0</td>\n",
              "      <td>0</td>\n",
              "      <td>1</td>\n",
              "      <td>0</td>\n",
              "      <td>1</td>\n",
              "      <td>0</td>\n",
              "      <td>0</td>\n",
              "      <td>0</td>\n",
              "      <td>0</td>\n",
              "      <td>0</td>\n",
              "      <td>0</td>\n",
              "      <td>0</td>\n",
              "      <td>0</td>\n",
              "      <td>0</td>\n",
              "      <td>1</td>\n",
              "      <td>1</td>\n",
              "      <td>0</td>\n",
              "      <td>0</td>\n",
              "      <td>0</td>\n",
              "      <td>0</td>\n",
              "      <td>0</td>\n",
              "      <td>0</td>\n",
              "      <td>0</td>\n",
              "      <td>0</td>\n",
              "      <td>1</td>\n",
              "      <td>0</td>\n",
              "      <td>0</td>\n",
              "      <td>0</td>\n",
              "      <td>0</td>\n",
              "      <td>0</td>\n",
              "      <td>1</td>\n",
              "      <td>0</td>\n",
              "      <td>0</td>\n",
              "      <td>0</td>\n",
              "      <td>0</td>\n",
              "      <td>0</td>\n",
              "      <td>0</td>\n",
              "      <td>0</td>\n",
              "      <td>...</td>\n",
              "      <td>0</td>\n",
              "      <td>0</td>\n",
              "      <td>1</td>\n",
              "      <td>0</td>\n",
              "      <td>0</td>\n",
              "      <td>0</td>\n",
              "      <td>0</td>\n",
              "      <td>0</td>\n",
              "      <td>0</td>\n",
              "      <td>0</td>\n",
              "      <td>1</td>\n",
              "      <td>0</td>\n",
              "      <td>0</td>\n",
              "      <td>1</td>\n",
              "      <td>0</td>\n",
              "      <td>1</td>\n",
              "      <td>0</td>\n",
              "      <td>0</td>\n",
              "      <td>0</td>\n",
              "      <td>0</td>\n",
              "      <td>1</td>\n",
              "      <td>0</td>\n",
              "      <td>0</td>\n",
              "      <td>1</td>\n",
              "      <td>0</td>\n",
              "      <td>0</td>\n",
              "      <td>0</td>\n",
              "      <td>0</td>\n",
              "      <td>0</td>\n",
              "      <td>0</td>\n",
              "      <td>1</td>\n",
              "      <td>0</td>\n",
              "      <td>0</td>\n",
              "      <td>0</td>\n",
              "      <td>1</td>\n",
              "      <td>0</td>\n",
              "      <td>0</td>\n",
              "      <td>0</td>\n",
              "      <td>0</td>\n",
              "      <td>0</td>\n",
              "    </tr>\n",
              "    <tr>\n",
              "      <th>2</th>\n",
              "      <td>0</td>\n",
              "      <td>0</td>\n",
              "      <td>0</td>\n",
              "      <td>0</td>\n",
              "      <td>0</td>\n",
              "      <td>0</td>\n",
              "      <td>1</td>\n",
              "      <td>0</td>\n",
              "      <td>0</td>\n",
              "      <td>0</td>\n",
              "      <td>0</td>\n",
              "      <td>0</td>\n",
              "      <td>0</td>\n",
              "      <td>0</td>\n",
              "      <td>0</td>\n",
              "      <td>1</td>\n",
              "      <td>0</td>\n",
              "      <td>1</td>\n",
              "      <td>0</td>\n",
              "      <td>0</td>\n",
              "      <td>1</td>\n",
              "      <td>0</td>\n",
              "      <td>0</td>\n",
              "      <td>0</td>\n",
              "      <td>0</td>\n",
              "      <td>0</td>\n",
              "      <td>1</td>\n",
              "      <td>0</td>\n",
              "      <td>0</td>\n",
              "      <td>0</td>\n",
              "      <td>0</td>\n",
              "      <td>0</td>\n",
              "      <td>0</td>\n",
              "      <td>1</td>\n",
              "      <td>0</td>\n",
              "      <td>0</td>\n",
              "      <td>0</td>\n",
              "      <td>0</td>\n",
              "      <td>0</td>\n",
              "      <td>0</td>\n",
              "      <td>...</td>\n",
              "      <td>0</td>\n",
              "      <td>0</td>\n",
              "      <td>1</td>\n",
              "      <td>0</td>\n",
              "      <td>0</td>\n",
              "      <td>0</td>\n",
              "      <td>0</td>\n",
              "      <td>0</td>\n",
              "      <td>0</td>\n",
              "      <td>0</td>\n",
              "      <td>1</td>\n",
              "      <td>0</td>\n",
              "      <td>0</td>\n",
              "      <td>1</td>\n",
              "      <td>0</td>\n",
              "      <td>1</td>\n",
              "      <td>0</td>\n",
              "      <td>0</td>\n",
              "      <td>0</td>\n",
              "      <td>0</td>\n",
              "      <td>1</td>\n",
              "      <td>0</td>\n",
              "      <td>0</td>\n",
              "      <td>1</td>\n",
              "      <td>0</td>\n",
              "      <td>0</td>\n",
              "      <td>0</td>\n",
              "      <td>0</td>\n",
              "      <td>0</td>\n",
              "      <td>0</td>\n",
              "      <td>1</td>\n",
              "      <td>0</td>\n",
              "      <td>0</td>\n",
              "      <td>0</td>\n",
              "      <td>0</td>\n",
              "      <td>0</td>\n",
              "      <td>1</td>\n",
              "      <td>0</td>\n",
              "      <td>0</td>\n",
              "      <td>0</td>\n",
              "    </tr>\n",
              "    <tr>\n",
              "      <th>3</th>\n",
              "      <td>0</td>\n",
              "      <td>0</td>\n",
              "      <td>0</td>\n",
              "      <td>0</td>\n",
              "      <td>1</td>\n",
              "      <td>0</td>\n",
              "      <td>0</td>\n",
              "      <td>1</td>\n",
              "      <td>0</td>\n",
              "      <td>0</td>\n",
              "      <td>0</td>\n",
              "      <td>0</td>\n",
              "      <td>0</td>\n",
              "      <td>0</td>\n",
              "      <td>0</td>\n",
              "      <td>1</td>\n",
              "      <td>0</td>\n",
              "      <td>1</td>\n",
              "      <td>0</td>\n",
              "      <td>0</td>\n",
              "      <td>0</td>\n",
              "      <td>0</td>\n",
              "      <td>0</td>\n",
              "      <td>1</td>\n",
              "      <td>0</td>\n",
              "      <td>0</td>\n",
              "      <td>1</td>\n",
              "      <td>0</td>\n",
              "      <td>1</td>\n",
              "      <td>0</td>\n",
              "      <td>0</td>\n",
              "      <td>0</td>\n",
              "      <td>0</td>\n",
              "      <td>1</td>\n",
              "      <td>0</td>\n",
              "      <td>0</td>\n",
              "      <td>0</td>\n",
              "      <td>0</td>\n",
              "      <td>0</td>\n",
              "      <td>0</td>\n",
              "      <td>...</td>\n",
              "      <td>0</td>\n",
              "      <td>0</td>\n",
              "      <td>1</td>\n",
              "      <td>0</td>\n",
              "      <td>0</td>\n",
              "      <td>0</td>\n",
              "      <td>0</td>\n",
              "      <td>0</td>\n",
              "      <td>0</td>\n",
              "      <td>0</td>\n",
              "      <td>1</td>\n",
              "      <td>0</td>\n",
              "      <td>0</td>\n",
              "      <td>1</td>\n",
              "      <td>0</td>\n",
              "      <td>1</td>\n",
              "      <td>0</td>\n",
              "      <td>0</td>\n",
              "      <td>0</td>\n",
              "      <td>0</td>\n",
              "      <td>1</td>\n",
              "      <td>0</td>\n",
              "      <td>1</td>\n",
              "      <td>0</td>\n",
              "      <td>0</td>\n",
              "      <td>0</td>\n",
              "      <td>0</td>\n",
              "      <td>0</td>\n",
              "      <td>0</td>\n",
              "      <td>0</td>\n",
              "      <td>0</td>\n",
              "      <td>1</td>\n",
              "      <td>0</td>\n",
              "      <td>0</td>\n",
              "      <td>0</td>\n",
              "      <td>0</td>\n",
              "      <td>0</td>\n",
              "      <td>0</td>\n",
              "      <td>1</td>\n",
              "      <td>0</td>\n",
              "    </tr>\n",
              "    <tr>\n",
              "      <th>4</th>\n",
              "      <td>0</td>\n",
              "      <td>0</td>\n",
              "      <td>0</td>\n",
              "      <td>0</td>\n",
              "      <td>1</td>\n",
              "      <td>0</td>\n",
              "      <td>1</td>\n",
              "      <td>0</td>\n",
              "      <td>0</td>\n",
              "      <td>0</td>\n",
              "      <td>1</td>\n",
              "      <td>0</td>\n",
              "      <td>0</td>\n",
              "      <td>0</td>\n",
              "      <td>0</td>\n",
              "      <td>0</td>\n",
              "      <td>0</td>\n",
              "      <td>0</td>\n",
              "      <td>0</td>\n",
              "      <td>0</td>\n",
              "      <td>0</td>\n",
              "      <td>0</td>\n",
              "      <td>1</td>\n",
              "      <td>0</td>\n",
              "      <td>0</td>\n",
              "      <td>0</td>\n",
              "      <td>1</td>\n",
              "      <td>1</td>\n",
              "      <td>0</td>\n",
              "      <td>0</td>\n",
              "      <td>0</td>\n",
              "      <td>0</td>\n",
              "      <td>1</td>\n",
              "      <td>0</td>\n",
              "      <td>0</td>\n",
              "      <td>0</td>\n",
              "      <td>0</td>\n",
              "      <td>0</td>\n",
              "      <td>0</td>\n",
              "      <td>0</td>\n",
              "      <td>...</td>\n",
              "      <td>0</td>\n",
              "      <td>0</td>\n",
              "      <td>1</td>\n",
              "      <td>0</td>\n",
              "      <td>0</td>\n",
              "      <td>0</td>\n",
              "      <td>0</td>\n",
              "      <td>0</td>\n",
              "      <td>0</td>\n",
              "      <td>0</td>\n",
              "      <td>1</td>\n",
              "      <td>0</td>\n",
              "      <td>0</td>\n",
              "      <td>1</td>\n",
              "      <td>0</td>\n",
              "      <td>1</td>\n",
              "      <td>0</td>\n",
              "      <td>0</td>\n",
              "      <td>0</td>\n",
              "      <td>0</td>\n",
              "      <td>0</td>\n",
              "      <td>0</td>\n",
              "      <td>0</td>\n",
              "      <td>1</td>\n",
              "      <td>0</td>\n",
              "      <td>0</td>\n",
              "      <td>0</td>\n",
              "      <td>0</td>\n",
              "      <td>0</td>\n",
              "      <td>0</td>\n",
              "      <td>0</td>\n",
              "      <td>0</td>\n",
              "      <td>0</td>\n",
              "      <td>0</td>\n",
              "      <td>1</td>\n",
              "      <td>0</td>\n",
              "      <td>0</td>\n",
              "      <td>0</td>\n",
              "      <td>0</td>\n",
              "      <td>0</td>\n",
              "    </tr>\n",
              "  </tbody>\n",
              "</table>\n",
              "<p>5 rows × 95 columns</p>\n",
              "</div>"
            ],
            "text/plain": [
              "   cap-shape_c  cap-shape_f  cap-shape_k  ...  habitat_p  habitat_u  habitat_w\n",
              "0            0            0            0  ...          0          1          0\n",
              "1            0            0            0  ...          0          0          0\n",
              "2            0            0            0  ...          0          0          0\n",
              "3            0            0            0  ...          0          1          0\n",
              "4            0            0            0  ...          0          0          0\n",
              "\n",
              "[5 rows x 95 columns]"
            ]
          },
          "metadata": {},
          "execution_count": 63
        }
      ]
    },
    {
      "cell_type": "markdown",
      "metadata": {
        "id": "V4FS97_UdLjH"
      },
      "source": [
        "random forest classification\n"
      ]
    },
    {
      "cell_type": "code",
      "metadata": {
        "id": "j2r-sc-YdJth"
      },
      "source": [
        "from sklearn.ensemble import RandomForestClassifier\n",
        "model1 = RandomForestClassifier(n_estimators = 10 ,max_features= 'auto', max_depth = 5,random_state = 101)\n",
        "model1.fit(X_train,y_train)\n",
        "y_pred1 = model1.predict(X_test)\n"
      ],
      "execution_count": 50,
      "outputs": []
    },
    {
      "cell_type": "code",
      "metadata": {
        "id": "gYAN5jv2eJsg"
      },
      "source": [
        "from sklearn.metrics import classification_report,confusion_matrix,accuracy_score"
      ],
      "execution_count": 52,
      "outputs": []
    },
    {
      "cell_type": "code",
      "metadata": {
        "colab": {
          "base_uri": "https://localhost:8080/"
        },
        "id": "ouQPIcpBgfEM",
        "outputId": "8016ea55-5e41-4291-ea8d-46cc474f4692"
      },
      "source": [
        "y_pred1"
      ],
      "execution_count": 55,
      "outputs": [
        {
          "output_type": "execute_result",
          "data": {
            "text/plain": [
              "array(['p', 'e', 'p', ..., 'p', 'p', 'e'], dtype=object)"
            ]
          },
          "metadata": {},
          "execution_count": 55
        }
      ]
    },
    {
      "cell_type": "code",
      "metadata": {
        "colab": {
          "base_uri": "https://localhost:8080/"
        },
        "id": "kCGw72L5fHq2",
        "outputId": "11f49b51-baf4-462f-8818-7222184c2967"
      },
      "source": [
        "print(classification_report(y_test,y_pred1))"
      ],
      "execution_count": 53,
      "outputs": [
        {
          "output_type": "stream",
          "name": "stdout",
          "text": [
            "              precision    recall  f1-score   support\n",
            "\n",
            "           e       0.97      1.00      0.99       655\n",
            "           p       1.00      0.97      0.98       564\n",
            "\n",
            "    accuracy                           0.99      1219\n",
            "   macro avg       0.99      0.98      0.99      1219\n",
            "weighted avg       0.99      0.99      0.99      1219\n",
            "\n"
          ]
        }
      ]
    },
    {
      "cell_type": "code",
      "metadata": {
        "colab": {
          "base_uri": "https://localhost:8080/"
        },
        "id": "4cmm6OUyjruJ",
        "outputId": "008be87b-a783-47f6-83de-e465ee7777a3"
      },
      "source": [
        "print(confusion_matrix(y_test,y_pred1))"
      ],
      "execution_count": 81,
      "outputs": [
        {
          "output_type": "stream",
          "name": "stdout",
          "text": [
            "[[655   0]\n",
            " [ 18 546]]\n"
          ]
        }
      ]
    },
    {
      "cell_type": "code",
      "metadata": {
        "colab": {
          "base_uri": "https://localhost:8080/"
        },
        "id": "Kk2DdkpcgVm2",
        "outputId": "2010af08-a903-48a0-caf8-6dfe99267d29"
      },
      "source": [
        "model1.feature_importances_"
      ],
      "execution_count": 59,
      "outputs": [
        {
          "output_type": "execute_result",
          "data": {
            "text/plain": [
              "array([0.00000000e+00, 0.00000000e+00, 0.00000000e+00, 2.34347215e-03,\n",
              "       0.00000000e+00, 6.25192038e-05, 1.29721454e-03, 3.36009085e-03,\n",
              "       0.00000000e+00, 8.67286339e-03, 7.54321697e-04, 0.00000000e+00,\n",
              "       8.98781443e-04, 5.59800396e-04, 0.00000000e+00, 3.05308404e-03,\n",
              "       1.34336049e-02, 4.57897384e-02, 1.08993294e-02, 5.52749712e-02,\n",
              "       1.36963393e-03, 0.00000000e+00, 9.62288177e-02, 2.56740626e-02,\n",
              "       1.60490744e-02, 7.08139175e-04, 0.00000000e+00, 6.00661344e-02,\n",
              "       9.52697686e-02, 7.62063543e-04, 0.00000000e+00, 0.00000000e+00,\n",
              "       0.00000000e+00, 0.00000000e+00, 0.00000000e+00, 0.00000000e+00,\n",
              "       1.36363307e-03, 0.00000000e+00, 6.73887988e-05, 0.00000000e+00,\n",
              "       8.10484441e-03, 1.25364397e-03, 1.51697049e-02, 2.93349876e-02,\n",
              "       0.00000000e+00, 1.42331563e-01, 2.53041317e-02, 8.08637319e-04,\n",
              "       2.25610286e-03, 5.02430101e-02, 2.66364543e-04, 0.00000000e+00,\n",
              "       0.00000000e+00, 0.00000000e+00, 1.03074881e-02, 4.54012456e-03,\n",
              "       0.00000000e+00, 1.19655473e-02, 6.18437479e-04, 1.78772881e-03,\n",
              "       0.00000000e+00, 3.80164553e-03, 1.79177309e-03, 0.00000000e+00,\n",
              "       0.00000000e+00, 3.01369332e-03, 0.00000000e+00, 0.00000000e+00,\n",
              "       0.00000000e+00, 0.00000000e+00, 5.91330620e-03, 9.20081276e-03,\n",
              "       0.00000000e+00, 0.00000000e+00, 0.00000000e+00, 5.69837302e-02,\n",
              "       3.96352794e-02, 3.63888878e-02, 0.00000000e+00, 0.00000000e+00,\n",
              "       5.75737905e-03, 2.16805348e-03, 3.07941841e-02, 0.00000000e+00,\n",
              "       0.00000000e+00, 2.78745328e-03, 0.00000000e+00, 2.05709475e-02,\n",
              "       8.54591741e-03, 1.05893864e-02, 0.00000000e+00, 6.94140872e-04,\n",
              "       4.50558126e-03, 8.60700372e-03, 0.00000000e+00])"
            ]
          },
          "metadata": {},
          "execution_count": 59
        }
      ]
    },
    {
      "cell_type": "code",
      "metadata": {
        "colab": {
          "base_uri": "https://localhost:8080/"
        },
        "id": "G4STyvTTgoo3",
        "outputId": "c1a7feb2-0e6f-41ca-8183-f6e59fb7db3a"
      },
      "source": [
        "model1.feature_importances_.argmax()"
      ],
      "execution_count": 80,
      "outputs": [
        {
          "output_type": "execute_result",
          "data": {
            "text/plain": [
              "45"
            ]
          },
          "metadata": {},
          "execution_count": 80
        }
      ]
    },
    {
      "cell_type": "code",
      "metadata": {
        "colab": {
          "base_uri": "https://localhost:8080/",
          "height": 35
        },
        "id": "9U84kK1zg2sn",
        "outputId": "9e46a88a-2a23-4fc9-dfcd-9761f54eb0f5"
      },
      "source": [
        "X.columns[45]"
      ],
      "execution_count": 62,
      "outputs": [
        {
          "output_type": "execute_result",
          "data": {
            "application/vnd.google.colaboratory.intrinsic+json": {
              "type": "string"
            },
            "text/plain": [
              "'stalk-surface-above-ring_k'"
            ]
          },
          "metadata": {},
          "execution_count": 62
        }
      ]
    },
    {
      "cell_type": "code",
      "metadata": {
        "id": "3HGxWpvshFev"
      },
      "source": [
        "# lets perform logistic regression"
      ],
      "execution_count": 64,
      "outputs": []
    },
    {
      "cell_type": "code",
      "metadata": {
        "id": "A40jqqDohvev"
      },
      "source": [
        "from sklearn.linear_model import LogisticRegression"
      ],
      "execution_count": 69,
      "outputs": []
    },
    {
      "cell_type": "code",
      "metadata": {
        "id": "pkA0cSytiN2T"
      },
      "source": [
        "model2 = LogisticRegression()"
      ],
      "execution_count": 70,
      "outputs": []
    },
    {
      "cell_type": "code",
      "metadata": {
        "colab": {
          "base_uri": "https://localhost:8080/"
        },
        "id": "j5H9O8uLilPs",
        "outputId": "19be2e32-3499-4c35-99b6-05b01fddcf5d"
      },
      "source": [
        "model2.fit(X_train,y_train)"
      ],
      "execution_count": 71,
      "outputs": [
        {
          "output_type": "execute_result",
          "data": {
            "text/plain": [
              "LogisticRegression(C=1.0, class_weight=None, dual=False, fit_intercept=True,\n",
              "                   intercept_scaling=1, l1_ratio=None, max_iter=100,\n",
              "                   multi_class='auto', n_jobs=None, penalty='l2',\n",
              "                   random_state=None, solver='lbfgs', tol=0.0001, verbose=0,\n",
              "                   warm_start=False)"
            ]
          },
          "metadata": {},
          "execution_count": 71
        }
      ]
    },
    {
      "cell_type": "code",
      "metadata": {
        "id": "JvptqPPXixVf"
      },
      "source": [
        "y_pred2 = model2.predict(X_test)"
      ],
      "execution_count": 72,
      "outputs": []
    },
    {
      "cell_type": "code",
      "metadata": {
        "colab": {
          "base_uri": "https://localhost:8080/"
        },
        "id": "zFLi_4hoi4l3",
        "outputId": "b4654671-b49c-4588-d12c-084ad092a1e1"
      },
      "source": [
        "y_pred2"
      ],
      "execution_count": 73,
      "outputs": [
        {
          "output_type": "execute_result",
          "data": {
            "text/plain": [
              "array(['p', 'e', 'p', ..., 'p', 'p', 'e'], dtype=object)"
            ]
          },
          "metadata": {},
          "execution_count": 73
        }
      ]
    },
    {
      "cell_type": "code",
      "metadata": {
        "colab": {
          "base_uri": "https://localhost:8080/"
        },
        "id": "tcgcfyUAi6wC",
        "outputId": "f10c9d62-92b6-4f14-a19b-f966814b00fa"
      },
      "source": [
        "print(classification_report(y_test,y_pred2))"
      ],
      "execution_count": 74,
      "outputs": [
        {
          "output_type": "stream",
          "name": "stdout",
          "text": [
            "              precision    recall  f1-score   support\n",
            "\n",
            "           e       1.00      1.00      1.00       655\n",
            "           p       1.00      1.00      1.00       564\n",
            "\n",
            "    accuracy                           1.00      1219\n",
            "   macro avg       1.00      1.00      1.00      1219\n",
            "weighted avg       1.00      1.00      1.00      1219\n",
            "\n"
          ]
        }
      ]
    },
    {
      "cell_type": "code",
      "metadata": {
        "colab": {
          "base_uri": "https://localhost:8080/"
        },
        "id": "poGQ5wgui_6z",
        "outputId": "114aaa42-6ddd-489d-eea5-76e9e3ba05d8"
      },
      "source": [
        "print(confusion_matrix(y_test,y_pred2))"
      ],
      "execution_count": 75,
      "outputs": [
        {
          "output_type": "stream",
          "name": "stdout",
          "text": [
            "[[655   0]\n",
            " [  0 564]]\n"
          ]
        }
      ]
    },
    {
      "cell_type": "code",
      "metadata": {
        "id": "klgLbcPIjGPL"
      },
      "source": [
        "# this model has achieved a  100 percent accuracy .\n"
      ],
      "execution_count": null,
      "outputs": []
    },
    {
      "cell_type": "code",
      "metadata": {
        "id": "693yfX0fjx2w"
      },
      "source": [
        "# lets perform using adaboost technique"
      ],
      "execution_count": 82,
      "outputs": []
    },
    {
      "cell_type": "code",
      "metadata": {
        "id": "kuoaoTOLj1sY"
      },
      "source": [
        "from sklearn.ensemble import AdaBoostClassifier"
      ],
      "execution_count": 83,
      "outputs": []
    },
    {
      "cell_type": "code",
      "metadata": {
        "id": "J0qFd8bqj_dX"
      },
      "source": [
        "model3 = AdaBoostClassifier(n_estimators = 1)\n",
        "model3.fit(X_train,y_train)\n",
        "y_pred3 = model3.predict(X_test)"
      ],
      "execution_count": 84,
      "outputs": []
    },
    {
      "cell_type": "code",
      "metadata": {
        "colab": {
          "base_uri": "https://localhost:8080/"
        },
        "id": "uQCxjamnkRIt",
        "outputId": "e169d2c6-a9a3-4be1-be0b-838c792c0a1b"
      },
      "source": [
        "print(classification_report(y_test,y_pred3))"
      ],
      "execution_count": 85,
      "outputs": [
        {
          "output_type": "stream",
          "name": "stdout",
          "text": [
            "              precision    recall  f1-score   support\n",
            "\n",
            "           e       0.96      0.81      0.88       655\n",
            "           p       0.81      0.96      0.88       564\n",
            "\n",
            "    accuracy                           0.88      1219\n",
            "   macro avg       0.88      0.88      0.88      1219\n",
            "weighted avg       0.89      0.88      0.88      1219\n",
            "\n"
          ]
        }
      ]
    },
    {
      "cell_type": "code",
      "metadata": {
        "colab": {
          "base_uri": "https://localhost:8080/"
        },
        "id": "B5Ly7gMokXG5",
        "outputId": "805f8439-cd0f-425c-a31f-4445400bfb96"
      },
      "source": [
        "print(confusion_matrix(y_test,y_pred3))"
      ],
      "execution_count": 86,
      "outputs": [
        {
          "output_type": "stream",
          "name": "stdout",
          "text": [
            "[[529 126]\n",
            " [ 23 541]]\n"
          ]
        }
      ]
    },
    {
      "cell_type": "code",
      "metadata": {
        "colab": {
          "base_uri": "https://localhost:8080/"
        },
        "id": "pVr0O01Gk1PK",
        "outputId": "e5d19689-182c-46a4-86e9-9f26a09e204b"
      },
      "source": [
        "model3.feature_importances_"
      ],
      "execution_count": 88,
      "outputs": [
        {
          "output_type": "execute_result",
          "data": {
            "text/plain": [
              "array([0., 0., 0., 0., 0., 0., 0., 0., 0., 0., 0., 0., 0., 0., 0., 0., 0.,\n",
              "       0., 0., 0., 0., 0., 1., 0., 0., 0., 0., 0., 0., 0., 0., 0., 0., 0.,\n",
              "       0., 0., 0., 0., 0., 0., 0., 0., 0., 0., 0., 0., 0., 0., 0., 0., 0.,\n",
              "       0., 0., 0., 0., 0., 0., 0., 0., 0., 0., 0., 0., 0., 0., 0., 0., 0.,\n",
              "       0., 0., 0., 0., 0., 0., 0., 0., 0., 0., 0., 0., 0., 0., 0., 0., 0.,\n",
              "       0., 0., 0., 0., 0., 0., 0., 0., 0., 0.])"
            ]
          },
          "metadata": {},
          "execution_count": 88
        }
      ]
    },
    {
      "cell_type": "code",
      "metadata": {
        "colab": {
          "base_uri": "https://localhost:8080/"
        },
        "id": "XQtFBIw4k5Ib",
        "outputId": "6c3a6222-2fd9-4c44-beb3-c2be385a2f87"
      },
      "source": [
        "model3.feature_importances_.argmax()"
      ],
      "execution_count": 89,
      "outputs": [
        {
          "output_type": "execute_result",
          "data": {
            "text/plain": [
              "22"
            ]
          },
          "metadata": {},
          "execution_count": 89
        }
      ]
    },
    {
      "cell_type": "code",
      "metadata": {
        "colab": {
          "base_uri": "https://localhost:8080/",
          "height": 35
        },
        "id": "Au0xpnGbk-s5",
        "outputId": "caf70dac-4e56-48b8-dece-ce3b364e751a"
      },
      "source": [
        "X.columns[22]"
      ],
      "execution_count": 90,
      "outputs": [
        {
          "output_type": "execute_result",
          "data": {
            "application/vnd.google.colaboratory.intrinsic+json": {
              "type": "string"
            },
            "text/plain": [
              "'odor_n'"
            ]
          },
          "metadata": {},
          "execution_count": 90
        }
      ]
    },
    {
      "cell_type": "code",
      "metadata": {
        "id": "6q904MuWkcsa"
      },
      "source": [
        "# let perform hyprparameter tuning to improve th eperformance of thed adaboost clasifier "
      ],
      "execution_count": 87,
      "outputs": []
    },
    {
      "cell_type": "code",
      "metadata": {
        "id": "Nc4PyDlukq3F"
      },
      "source": [
        "error = []\n",
        "for n in range(1,50):\n",
        "  model = AdaBoostClassifier(n_estimators = n)\n",
        "  model.fit(X_train,y_train)\n",
        "  y_pred = model.predict(X_test)\n",
        "  err = 1 - accuracy_score(y_pred ,y_test)\n",
        "  error.append(err)\n",
        "\n",
        "\n"
      ],
      "execution_count": 93,
      "outputs": []
    },
    {
      "cell_type": "code",
      "metadata": {
        "colab": {
          "base_uri": "https://localhost:8080/",
          "height": 283
        },
        "id": "QPWtHGQRl9fe",
        "outputId": "e0438fbc-8511-4c2d-fafd-4fbb8ffc1876"
      },
      "source": [
        "plt.plot(range(1,50),error)"
      ],
      "execution_count": 94,
      "outputs": [
        {
          "output_type": "execute_result",
          "data": {
            "text/plain": [
              "[<matplotlib.lines.Line2D at 0x7fba09a47510>]"
            ]
          },
          "metadata": {},
          "execution_count": 94
        },
        {
          "output_type": "display_data",
          "data": {
            "image/png": "[encoded data removed]",
            "text/plain": [
              "<Figure size 432x288 with 1 Axes>"
            ]
          },
          "metadata": {
            "needs_background": "light"
          }
        }
      ]
    },
    {
      "cell_type": "code",
      "metadata": {
        "id": "XNuujg46mTRi"
      },
      "source": [
        "#here error is minimum at the value 18\n",
        "#lets take n = 18"
      ],
      "execution_count": 95,
      "outputs": []
    },
    {
      "cell_type": "code",
      "metadata": {
        "id": "FJG6wpFomnIy"
      },
      "source": [
        "model4 = AdaBoostClassifier(n_estimators = 18)\n",
        "model4.fit(X_train,y_train)\n",
        "y_pred4 = model4.predict(X_test)"
      ],
      "execution_count": 96,
      "outputs": []
    },
    {
      "cell_type": "code",
      "metadata": {
        "colab": {
          "base_uri": "https://localhost:8080/"
        },
        "id": "tAUGWhCWmvvA",
        "outputId": "78f48ede-fa93-4395-b469-1002165e60d8"
      },
      "source": [
        "print(classification_report(y_test,y_pred4))"
      ],
      "execution_count": 97,
      "outputs": [
        {
          "output_type": "stream",
          "name": "stdout",
          "text": [
            "              precision    recall  f1-score   support\n",
            "\n",
            "           e       1.00      1.00      1.00       655\n",
            "           p       1.00      1.00      1.00       564\n",
            "\n",
            "    accuracy                           1.00      1219\n",
            "   macro avg       1.00      1.00      1.00      1219\n",
            "weighted avg       1.00      1.00      1.00      1219\n",
            "\n"
          ]
        }
      ]
    },
    {
      "cell_type": "code",
      "metadata": {
        "colab": {
          "base_uri": "https://localhost:8080/"
        },
        "id": "1oZZDxs2m1r9",
        "outputId": "65d11e91-7733-4499-b4c0-4a0a4b4cb406"
      },
      "source": [
        "print(confusion_matrix(y_test,y_pred4))"
      ],
      "execution_count": 98,
      "outputs": [
        {
          "output_type": "stream",
          "name": "stdout",
          "text": [
            "[[655   0]\n",
            " [  0 564]]\n"
          ]
        }
      ]
    },
    {
      "cell_type": "code",
      "metadata": {
        "colab": {
          "base_uri": "https://localhost:8080/"
        },
        "id": "3YNgktaPm6rZ",
        "outputId": "6d760180-2145-4528-9497-78700c594a4a"
      },
      "source": [
        "model.feature_importances_.argmax()"
      ],
      "execution_count": 99,
      "outputs": [
        {
          "output_type": "execute_result",
          "data": {
            "text/plain": [
              "82"
            ]
          },
          "metadata": {},
          "execution_count": 99
        }
      ]
    },
    {
      "cell_type": "code",
      "metadata": {
        "colab": {
          "base_uri": "https://localhost:8080/",
          "height": 35
        },
        "id": "R7y79_odnOtm",
        "outputId": "25bb3407-ff85-4329-9265-998f8786ad2d"
      },
      "source": [
        "X.columns[82]"
      ],
      "execution_count": 100,
      "outputs": [
        {
          "output_type": "execute_result",
          "data": {
            "application/vnd.google.colaboratory.intrinsic+json": {
              "type": "string"
            },
            "text/plain": [
              "'spore-print-color_w'"
            ]
          },
          "metadata": {},
          "execution_count": 100
        }
      ]
    },
    {
      "cell_type": "code",
      "metadata": {
        "id": "xBI_HZU6nRux"
      },
      "source": [
        "# we are getting the best accuracy using logistic regression and using adaboost technique when nthe no of estimators are equal to 18"
      ],
      "execution_count": 101,
      "outputs": []
    },
    {
      "cell_type": "code",
      "metadata": {
        "id": "MkSP0IEJncgE"
      },
      "source": [
        "# Here different models are giving the importanv eto the differenr features to het the bets aaccuracy."
      ],
      "execution_count": null,
      "outputs": []
    }
  ]
}