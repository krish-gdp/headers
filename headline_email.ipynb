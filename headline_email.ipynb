{
 "cells": [
  {
   "cell_type": "code",
   "execution_count": 105,
   "metadata": {},
   "outputs": [],
   "source": [
    "import bs4"
   ]
  },
  {
   "cell_type": "code",
   "execution_count": 106,
   "metadata": {},
   "outputs": [],
   "source": [
    "from bs4 import BeautifulSoup"
   ]
  },
  {
   "cell_type": "code",
   "execution_count": 107,
   "metadata": {},
   "outputs": [],
   "source": [
    "import smtplib"
   ]
  },
  {
   "cell_type": "code",
   "execution_count": 108,
   "metadata": {},
   "outputs": [],
   "source": [
    "import email.mime"
   ]
  },
  {
   "cell_type": "code",
   "execution_count": 109,
   "metadata": {},
   "outputs": [],
   "source": [
    "import datetime"
   ]
  },
  {
   "cell_type": "code",
   "execution_count": 110,
   "metadata": {},
   "outputs": [],
   "source": [
    "import requests"
   ]
  },
  {
   "cell_type": "code",
   "execution_count": 111,
   "metadata": {},
   "outputs": [],
   "source": [
    "from email.mime.multipart import MIMEMultipart\n",
    "from email.mime.text import MIMEText"
   ]
  },
  {
   "cell_type": "code",
   "execution_count": 112,
   "metadata": {},
   "outputs": [],
   "source": [
    "now = datetime.datetime.now()"
   ]
  },
  {
   "cell_type": "code",
   "execution_count": 113,
   "metadata": {},
   "outputs": [],
   "source": [
    "content =  ''"
   ]
  },
  {
   "cell_type": "code",
   "execution_count": 114,
   "metadata": {},
   "outputs": [],
   "source": [
    "def extract_news(url):\n",
    "    print('Extracting Hacker News Stories...')\n",
    "    cnt = ''\n",
    "    cnt +=('<b>HN Top Stories:</b>\\n'+'<br>'+'-'*50+'<br>')\n",
    "    response = requests.get(url)\n",
    "    content = response.content\n",
    "    soup = BeautifulSoup(content,'html.parser')\n",
    "    for i,tag in enumerate(soup.find_all('td',attrs={'class':'title','valign':''})):\n",
    "        cnt += ((str(i+1)+' :: '+tag.text + \"\\n\" + '<br>') if tag.text!='More' else '')\n",
    "        #print(tag.prettify) #find_all('span',attrs={'class':'sitestr'}))\n",
    "    return(cnt)\n"
   ]
  },
  {
   "cell_type": "code",
   "execution_count": 115,
   "metadata": {},
   "outputs": [
    {
     "name": "stdout",
     "output_type": "stream",
     "text": [
      "Extracting Hacker News Stories...\n"
     ]
    }
   ],
   "source": [
    "cnt = extract_news('https://expert.chegg.com/home')\n",
    "content += cnt\n",
    "content += ('<br>------<br>')\n",
    "content +=('<br><br>End of Message')"
   ]
  },
  {
   "cell_type": "code",
   "execution_count": 116,
   "metadata": {},
   "outputs": [],
   "source": [
    "SERVER = 'smtp.gmail.com'\n",
    "PORT = 587\n",
    "FROM = '***********@gmail.com'\n",
    "TO = '**********@gmail.com'\n",
    "PASS = '---------'"
   ]
  },
  {
   "cell_type": "code",
   "execution_count": 117,
   "metadata": {},
   "outputs": [],
   "source": [
    "msg = MIMEMultipart()"
   ]
  },
  {
   "cell_type": "code",
   "execution_count": 118,
   "metadata": {},
   "outputs": [],
   "source": [
    "msg['Subject'] = 'Top News Stories HN [Automated Email]' + ' ' + str(now.day) + '-' + str(now.month)+'-'+str(now.year)\n",
    "msg['From'] = FROM \n",
    "msg['To'] = TO\n",
    "msg.attach(MIMEText(content, 'html'))"
   ]
  },
  {
   "cell_type": "code",
   "execution_count": 119,
   "metadata": {},
   "outputs": [
    {
     "name": "stderr",
     "output_type": "stream",
     "text": [
      "send: 'ehlo [192.168.1.68]\\r\\n'\n",
      "reply: b'250-smtp.gmail.com at your service, [103.74.141.112]\\r\\n'\n",
      "reply: b'250-SIZE 35882577\\r\\n'\n",
      "reply: b'250-8BITMIME\\r\\n'\n",
      "reply: b'250-STARTTLS\\r\\n'\n",
      "reply: b'250-ENHANCEDSTATUSCODES\\r\\n'\n",
      "reply: b'250-PIPELINING\\r\\n'\n",
      "reply: b'250 SMTPUTF8\\r\\n'\n",
      "reply: retcode (250); Msg: b'smtp.gmail.com at your service, [103.74.141.112]\\nSIZE 35882577\\n8BITMIME\\nSTARTTLS\\nENHANCEDSTATUSCODES\\nPIPELINING\\nSMTPUTF8'\n",
      "send: 'STARTTLS\\r\\n'\n",
      "reply: b'220 2.0.0 Ready to start TLS\\r\\n'\n",
      "reply: retcode (220); Msg: b'2.0.0 Ready to start TLS'\n",
      "send: 'ehlo [192.168.1.68]\\r\\n'\n",
      "reply: b'250-smtp.gmail.com at your service, [103.74.141.112]\\r\\n'\n",
      "reply: b'250-SIZE 35882577\\r\\n'\n",
      "reply: b'250-8BITMIME\\r\\n'\n",
      "reply: b'250-AUTH LOGIN PLAIN XOAUTH2 PLAIN-CLIENTTOKEN OAUTHBEARER XOAUTH\\r\\n'\n",
      "reply: b'250-ENHANCEDSTATUSCODES\\r\\n'\n",
      "reply: b'250-PIPELINING\\r\\n'\n",
      "reply: b'250 SMTPUTF8\\r\\n'\n",
      "reply: retcode (250); Msg: b'smtp.gmail.com at your service, [103.74.141.112]\\nSIZE 35882577\\n8BITMIME\\nAUTH LOGIN PLAIN XOAUTH2 PLAIN-CLIENTTOKEN OAUTHBEARER XOAUTH\\nENHANCEDSTATUSCODES\\nPIPELINING\\nSMTPUTF8'\n",
      "send: 'AUTH PLAIN AHZrcmlzaG5hMjM4QGdtYWlsLmNvbQAxMzI0MTI1OTA4\\r\\n'\n",
      "reply: b'235 2.7.0 Accepted\\r\\n'\n",
      "reply: retcode (235); Msg: b'2.7.0 Accepted'\n",
      "send: 'mail FROM:<vkrishna238@gmail.com> size=514\\r\\n'\n",
      "reply: b'250 2.1.0 OK b7-20020a056a00114700b004f7be3231d6sm22886492pfm.7 - gsmtp\\r\\n'\n",
      "reply: retcode (250); Msg: b'2.1.0 OK b7-20020a056a00114700b004f7be3231d6sm22886492pfm.7 - gsmtp'\n",
      "send: 'rcpt TO:<vamkrish0@gmail.com>\\r\\n'\n",
      "reply: b'250 2.1.5 OK b7-20020a056a00114700b004f7be3231d6sm22886492pfm.7 - gsmtp\\r\\n'\n",
      "reply: retcode (250); Msg: b'2.1.5 OK b7-20020a056a00114700b004f7be3231d6sm22886492pfm.7 - gsmtp'\n",
      "send: 'data\\r\\n'\n",
      "reply: b'354  Go ahead b7-20020a056a00114700b004f7be3231d6sm22886492pfm.7 - gsmtp\\r\\n'\n",
      "reply: retcode (354); Msg: b'Go ahead b7-20020a056a00114700b004f7be3231d6sm22886492pfm.7 - gsmtp'\n",
      "data: (354, b'Go ahead b7-20020a056a00114700b004f7be3231d6sm22886492pfm.7 - gsmtp')\n",
      "send: b'Content-Type: multipart/mixed; boundary=\"===============4193114349844508874==\"\\r\\nMIME-Version: 1.0\\r\\nSubject: Top News Stories HN [Automated Email] 22-3-2022\\r\\nFrom: vkrishna238@gmail.com\\r\\nTo: vamkrish0@gmail.com\\r\\n\\r\\n--===============4193114349844508874==\\r\\nContent-Type: text/html; charset=\"us-ascii\"\\r\\nMIME-Version: 1.0\\r\\nContent-Transfer-Encoding: 7bit\\r\\n\\r\\n<b>HN Top Stories:</b>\\r\\n<br>--------------------------------------------------<br><br>------<br><br><br>End of Message\\r\\n--===============4193114349844508874==--\\r\\n.\\r\\n'\n",
      "reply: b'250 2.0.0 OK  1647957100 b7-20020a056a00114700b004f7be3231d6sm22886492pfm.7 - gsmtp\\r\\n'\n",
      "reply: retcode (250); Msg: b'2.0.0 OK  1647957100 b7-20020a056a00114700b004f7be3231d6sm22886492pfm.7 - gsmtp'\n",
      "data: (250, b'2.0.0 OK  1647957100 b7-20020a056a00114700b004f7be3231d6sm22886492pfm.7 - gsmtp')\n"
     ]
    },
    {
     "data": {
      "text/plain": [
       "{}"
      ]
     },
     "execution_count": 119,
     "metadata": {},
     "output_type": "execute_result"
    }
   ],
   "source": [
    "server = smtplib.SMTP(SERVER, PORT)\n",
    "#server = smtplib.SMTP_SSL('smtp.gmail.com', 465)\n",
    "server.set_debuglevel(1)\n",
    "server.ehlo()\n",
    "server.starttls()\n",
    "#server.ehlo\n",
    "server.login(FROM, PASS)\n",
    "server.sendmail(FROM, TO, msg.as_string())"
   ]
  },
  {
   "cell_type": "code",
   "execution_count": null,
   "metadata": {},
   "outputs": [],
   "source": []
  }
 ],
 "metadata": {
  "interpreter": {
   "hash": "9557a4f5ab5be47bacd2445d27b1553562b810e48eea2ff122bc3c25f24186be"
  },
  "kernelspec": {
   "display_name": "Python 3.8.8 ('base')",
   "language": "python",
   "name": "python3"
  },
  "language_info": {
   "codemirror_mode": {
    "name": "ipython",
    "version": 3
   },
   "file_extension": ".py",
   "mimetype": "text/x-python",
   "name": "python",
   "nbconvert_exporter": "python",
   "pygments_lexer": "ipython3",
   "version": "3.8.8"
  },
  "orig_nbformat": 4
 },
 "nbformat": 4,
 "nbformat_minor": 2
}
